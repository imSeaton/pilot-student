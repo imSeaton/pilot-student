{
 "cells": [
  {
   "cell_type": "code",
   "execution_count": 1,
   "metadata": {},
   "outputs": [],
   "source": [
    "lst_updated = []\n",
    "def append_list(lst=[]):\n",
    "    print(f\"lst is lst_updated?  {lst is lst_updated}\")\n",
    "    print(f'lst_id: {id(lst)}')\n",
    "    print(f'lst_update_id: {id(lst_updated)}')\n",
    "    lst.append(1)\n",
    "    return lst"
   ]
  },
  {
   "cell_type": "code",
   "execution_count": 4,
   "metadata": {},
   "outputs": [
    {
     "name": "stdout",
     "output_type": "stream",
     "text": [
      "lst is lst_updated?  True\n",
      "lst_id: 2308101425352\n",
      "lst_update_id: 2308101425352\n",
      "lst_updated: [1, 1, 1]\n"
     ]
    }
   ],
   "source": [
    "lst_updated = append_list()\n",
    "print(f'lst_updated: {lst_updated}')"
   ]
  }
 ],
 "metadata": {
  "kernelspec": {
   "display_name": "Python 3",
   "language": "python",
   "name": "python3"
  },
  "language_info": {
   "codemirror_mode": {
    "name": "ipython",
    "version": 3
   },
   "file_extension": ".py",
   "mimetype": "text/x-python",
   "name": "python",
   "nbconvert_exporter": "python",
   "pygments_lexer": "ipython3",
   "version": "3.7.4"
  }
 },
 "nbformat": 4,
 "nbformat_minor": 4
}
