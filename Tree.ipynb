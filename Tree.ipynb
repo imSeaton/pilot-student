{
 "cells": [
  {
   "cell_type": "code",
   "execution_count": 14,
   "metadata": {
    "scrolled": true
   },
   "outputs": [],
   "source": [
    "class TreeNode:\n",
    "    def __init__(self, name='root', data=None, parent=None, children=None):\n",
    "        self.name = name\n",
    "        self.data = data\n",
    "#         self.descentants = []\n",
    "        if parent:\n",
    "            assert isinstance(parent, TreeNode)\n",
    "            parent.add_child(self)\n",
    "        self.parent = None\n",
    "        self.children = []\n",
    "        if children:\n",
    "            for child in children:\n",
    "                self.add_child(child)\n",
    "    \n",
    "    # 判断当前节点是否为树节点，是的话将其作为子节点加入当前节点\n",
    "    def add_child(self, node):\n",
    "        assert isinstance(node, TreeNode)\n",
    "        node.parent = self\n",
    "        self.children.append(node)\n",
    "        \n",
    "    def get_parent(self):\n",
    "        return self.parent\n",
    "    \n",
    "    def get_children(self):\n",
    "        children = []\n",
    "        for child in self.children:\n",
    "            children.append(child)\n",
    "        return children\n",
    "    \n",
    "    # 返回第一个名称为Name的节点\n",
    "    def get_child_by_name(self, name=''):\n",
    "        for child in self.children:\n",
    "            if child.name == name:\n",
    "                return child\n",
    "        return None\n",
    "    \n",
    "    # 返回当前节点的第n个子节点\n",
    "    def get_child_by_id(self, id=0):\n",
    "        if id < len(self.children):\n",
    "            return self.children[id]\n",
    "        return False\n",
    "    \n",
    "    # 返回当前节点data为N的所有节点，返回结果为一个元组\n",
    "    def get_children_by_value(self, data=0):\n",
    "        nodes = []\n",
    "        for child in self.children:\n",
    "            if child.data == data:\n",
    "                nodes.append(child)\n",
    "        return nodes\n",
    "    \n",
    "    # 找出一个节点所有的siblings，如果没有父节点或则\n",
    "    def get_siblings(self):\n",
    "        siblings = []\n",
    "        if self.parent == None:\n",
    "            print('Root has no siblings')\n",
    "            return False\n",
    "        else:\n",
    "            for child in self.parent.children:\n",
    "                # 排除当前节点\n",
    "                if child.name != self.name:\n",
    "                    siblings.append(child)\n",
    "        return siblings\n",
    "    \n",
    "    # 找到所有的后代节点\n",
    "    # 深度遍历，找到叶子节点时返回\n",
    "    \n",
    "    def get_all_descendants(self, descendants=[]):\n",
    "        children = self.get_children()\n",
    "        for child in children:\n",
    "            if not child.get_children():\n",
    "                print(f\"{child.name} has no child, and it has been appended to the descendants\")\n",
    "                descendants.append(child)                \n",
    "            else:\n",
    "                print(f\"{child.name} has some children, and it has been appended to the descendants\")\n",
    "                descendants.append(child) \n",
    "                child.get_all_descendants(descendants)\n",
    "        return descendants"
   ]
  },
  {
   "cell_type": "code",
   "execution_count": 15,
   "metadata": {},
   "outputs": [],
   "source": [
    "# 构建一个树\n",
    "# 第三层节点\n",
    "r4 = TreeNode('4', 4)\n",
    "r5 = TreeNode('5', 5)\n",
    "r6 = TreeNode('6', 6)\n",
    "r7 = TreeNode('7', 7)\n",
    "# 第二层节点\n",
    "r1 = TreeNode('1', 1)\n",
    "r2 = TreeNode('2', 2, None, [r4, r5])\n",
    "r3 = TreeNode('3', 3, None, [r6, r7])\n",
    "# 第一层节点、根节点\n",
    "r0 = TreeNode('0', 0, parent=None, children=[r1, r2, r3])"
   ]
  },
  {
   "cell_type": "code",
   "execution_count": 23,
   "metadata": {},
   "outputs": [
    {
     "name": "stdout",
     "output_type": "stream",
     "text": [
      "1 has no child, and it has been appended to the descendants\n",
      "2 has some children, and it has been appended to the descendants\n",
      "4 has no child, and it has been appended to the descendants\n",
      "5 has no child, and it has been appended to the descendants\n",
      "3 has some children, and it has been appended to the descendants\n",
      "6 has no child, and it has been appended to the descendants\n",
      "7 has no child, and it has been appended to the descendants\n",
      "['1', '2', '4', '5', '3', '6', '7']\n"
     ]
    }
   ],
   "source": [
    "descendants = r0.get_all_descendants([])\n",
    "descendants_of_r0 = [item.name for item in descendants]\n",
    "print(descendants_of_r0)\n"
   ]
  },
  {
   "cell_type": "code",
   "execution_count": 3,
   "metadata": {},
   "outputs": [],
   "source": [
    "def append_list(lst=[]):\n",
    "    lst.append(1)\n",
    "    return lst"
   ]
  },
  {
   "cell_type": "code",
   "execution_count": 7,
   "metadata": {},
   "outputs": [
    {
     "name": "stdout",
     "output_type": "stream",
     "text": [
      "[1, 1, 1]\n"
     ]
    }
   ],
   "source": [
    "lst_updated = append_list()\n",
    "print(lst_updated)"
   ]
  },
  {
   "cell_type": "code",
   "execution_count": 6,
   "metadata": {},
   "outputs": [],
   "source": [
    "def greeting(name, msg='Hi'):\n",
    "    print(f'{msg}, {name}')\n",
    "    msg = 'Hello'"
   ]
  },
  {
   "cell_type": "code",
   "execution_count": 36,
   "metadata": {},
   "outputs": [
    {
     "name": "stdout",
     "output_type": "stream",
     "text": [
      "Hi, Neo\n"
     ]
    }
   ],
   "source": [
    "greeting('Neo')"
   ]
  }
 ],
 "metadata": {
  "kernelspec": {
   "display_name": "Python 3",
   "language": "python",
   "name": "python3"
  },
  "language_info": {
   "codemirror_mode": {
    "name": "ipython",
    "version": 3
   },
   "file_extension": ".py",
   "mimetype": "text/x-python",
   "name": "python",
   "nbconvert_exporter": "python",
   "pygments_lexer": "ipython3",
   "version": "3.7.4"
  }
 },
 "nbformat": 4,
 "nbformat_minor": 4
}
