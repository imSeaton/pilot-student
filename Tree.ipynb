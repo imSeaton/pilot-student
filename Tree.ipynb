{
 "cells": [
  {
   "cell_type": "code",
   "execution_count": 64,
   "metadata": {
    "scrolled": true
   },
   "outputs": [],
   "source": [
    "class TreeNode:\n",
    "    def __init__(self, name='root', data=None, parent=None, children=None):\n",
    "        self.name = name\n",
    "        self.data = data\n",
    "#         self.descentants = []\n",
    "        if parent:\n",
    "            assert isinstance(parent, TreeNode)\n",
    "            parent.add_child(self)\n",
    "        self.parent = None\n",
    "        self.children = []\n",
    "        if children:\n",
    "            for child in children:\n",
    "                self.add_child(child)\n",
    "    \n",
    "    # 判断当前节点是否为树节点，是的话将其作为子节点加入当前节点\n",
    "    def add_child(self, node):\n",
    "        assert isinstance(node, TreeNode)\n",
    "        node.parent = self\n",
    "        self.children.append(node)\n",
    "        \n",
    "    def get_parent(self):\n",
    "        return self.parent\n",
    "    \n",
    "    def get_children(self):\n",
    "        children = []\n",
    "        for child in self.children:\n",
    "            children.append(child)\n",
    "        return children\n",
    "    \n",
    "    # 返回第一个名称为Name的节点\n",
    "    def get_child_by_name(self, name=''):\n",
    "        for child in self.children:\n",
    "            if child.name == name:\n",
    "                return child\n",
    "        return None\n",
    "    \n",
    "    # 返回当前节点的第n个子节点\n",
    "    def get_child_by_id(self, id=0):\n",
    "        if id < len(self.children):\n",
    "            return self.children[id]\n",
    "        return False\n",
    "    \n",
    "    # 返回当前节点data为N的所有节点，返回结果为一个元组\n",
    "    def get_children_by_value(self, data=0):\n",
    "        nodes = []\n",
    "        for child in self.children:\n",
    "            if child.data == data:\n",
    "                nodes.append(child)\n",
    "        return nodes\n",
    "    \n",
    "    # 找出一个节点所有的siblings，如果没有父节点或则\n",
    "    def get_siblings(self):\n",
    "        siblings = []\n",
    "        if self.parent == None:\n",
    "            print('Root has no siblings')\n",
    "            return False\n",
    "        else:\n",
    "            for child in self.parent.children:\n",
    "                # 排除当前节点\n",
    "                if child.name != self.name:\n",
    "                    siblings.append(child)\n",
    "        return siblings\n",
    "    \n",
    "    # 找到所有的后代节点\n",
    "    # 需要在调用时设置参数为空列表，否则再次调用时，列表会保留上次操作的结果\n",
    "    \n",
    "    def get_all_descendants(self, descendants=[]):\n",
    "        children = self.get_children()\n",
    "        for child in children:\n",
    "            if not child.get_children():\n",
    "#                 print(f\"{child.name} has no child, and it has been appended to the descendants\")\n",
    "                descendants.append(child)                \n",
    "            else:\n",
    "#                 print(f\"{child.name} has some children, and it has been appended to the descendants\")\n",
    "                descendants.append(child) \n",
    "                child.get_all_descendants(descendants)\n",
    "        return descendants\n",
    "    \n",
    "    # 找到节点所有的后代节点\n",
    "    # 改进版，同样需要传入列表作为参数，函数会修改列表的值\n",
    "    # 返回值为True，则修改后的列表包含所有后代节点，否则该节点没有后代节点\n",
    "    def get_all_descendants_new(self, descendants=[]):\n",
    "        children = self.get_children()\n",
    "        if children:\n",
    "            for child in children:\n",
    "                if not child.get_children():\n",
    "#                     print(f\"{child.name} has no child, and it has been appended to the descendants\")\n",
    "                    descendants.append(child)\n",
    "                else:\n",
    "#                     print(f\"{child.name} has some children, and it has benn appended to the descendants\")\n",
    "                    descendants.append(child)\n",
    "                    child.get_all_descendants(descendants)\n",
    "            return True\n",
    "        else:\n",
    "            return False\n",
    "        \n",
    "            \n",
    "    def get_path(self, TreeNode_B):\n",
    "        assert isinstance(TreeNode_B, TreeNode)\n",
    "        lst_path = []\n",
    "        TreeNode_Common_Ancestor = self\n",
    "        # 如果节点A和节点B相同，则lst_path为该节点本身\n",
    "        if self is TreeNode_B:\n",
    "            lst_path.append(self)\n",
    "            return lst_path\n",
    "        \n",
    "        # 如果节点B为根节点，则直接由节点A出发不断寻找父节点，直至根节点\n",
    "        if TreeNode_B.parent is None:\n",
    "            TreeNode_A_Ancestor = self\n",
    "            while TreeNode_A_Ancestor is not TreeNode_B:\n",
    "                lst_path.append(TreeNode_A_Ancestor)\n",
    "                TreeNode_A_Ancestor = TreeNode_A_Ancestor.get_parent()\n",
    "            lst_path.append(TreeNode_B)\n",
    "            return lst_path\n",
    "        \n",
    "        # 如果节点A和节点B不同，并且节点B不为根节点 \n",
    "        # 先从节点A出发，寻找其父节点，直到找到最近的一个公共祖先节点\n",
    "        # 接着由节点B出发，寻找其父节点，直到找到公共祖先节点\n",
    "        TreeNode_Common_Ancestor_Descendants = []\n",
    "        TreeNode_Common_Ancestor.get_all_descendants_new(TreeNode_Common_Ancestor_Descendants)\n",
    "        # 从节点A开始构建到达公共祖先节点的路径\n",
    "        while TreeNode_B not in TreeNode_Common_Ancestor_Descendants:\n",
    "            # 将节点添加至lst_path中，作为从节点A出发的路径\n",
    "            lst_path.append(TreeNode_Common_Ancestor)\n",
    "            # 继续向上寻找父节点，判断其是否为节点B的祖先节点\n",
    "            TreeNode_Common_Ancestor = TreeNode_Common_Ancestor.get_parent()\n",
    "            # 清空待确定公共祖先节点的后代节点\n",
    "            TreeNode_Common_Ancestor_Descendants = []\n",
    "            TreeNode_Common_Ancestor.get_all_descendants_new(TreeNode_Common_Ancestor_Descendants)\n",
    "        lst_path.append(TreeNode_Common_Ancestor)\n",
    "        length_of_ancestor_to_a = len(lst_path)\n",
    "        # 公共祖先节点开始构建到达节点B的路径\n",
    "        TreeNode_B_Ancestor = TreeNode_B   \n",
    "        while TreeNode_B_Ancestor is not TreeNode_Common_Ancestor:\n",
    "            # 从节点B出发，倒叙插入列表，最终的结果是正序\n",
    "            lst_path.insert(length_of_ancestor_to_a, TreeNode_B_Ancestor)\n",
    "            TreeNode_B_Ancestor = TreeNode_B_Ancestor.get_parent()\n",
    "        return lst_path\n",
    "    \n",
    "    def get_distance(self, TreeNode_B):\n",
    "        li_path = self.get_path(TreeNode_B)\n",
    "        return len(li_path)\n",
    "    \n",
    "    # 根节点为第一层\n",
    "    def get_tier(self):\n",
    "        i = 0\n",
    "        Ancestor = self\n",
    "        while Ancestor.parent is not None:\n",
    "            Ancestor = Ancestor.get_parent()\n",
    "            i += 1\n",
    "        return i+1"
   ]
  },
  {
   "cell_type": "code",
   "execution_count": 65,
   "metadata": {},
   "outputs": [],
   "source": [
    "# 构建一个树\n",
    "# 第四层节点\n",
    "r8 = TreeNode('8', 8)\n",
    "r9 = TreeNode('9', 9)\n",
    "r10 = TreeNode('10', 10)\n",
    "# 第三层节点\n",
    "r4 = TreeNode('4', 4, None, [r8, r9])\n",
    "r5 = TreeNode('5', 5, None, [r10])\n",
    "r6 = TreeNode('6', 6)\n",
    "r7 = TreeNode('7', 7)\n",
    "# 第二层节点\n",
    "r1 = TreeNode('1', 1)\n",
    "r2 = TreeNode('2', 2, None, [r4, r5])\n",
    "r3 = TreeNode('3', 3, None, [r6, r7])\n",
    "# 第一层节点、根节点\n",
    "r0 = TreeNode('0', 0, parent=None, children=[r1, r2, r3])"
   ]
  },
  {
   "cell_type": "code",
   "execution_count": 66,
   "metadata": {},
   "outputs": [
    {
     "name": "stdout",
     "output_type": "stream",
     "text": [
      "['1', '2', '4', '8', '9', '5', '10', '3', '6', '7']\n"
     ]
    }
   ],
   "source": [
    "descendants = r0.get_all_descendants([])\n",
    "descendants_of_r0 = [item.name for item in descendants]\n",
    "print(descendants_of_r0)"
   ]
  },
  {
   "cell_type": "code",
   "execution_count": 67,
   "metadata": {},
   "outputs": [
    {
     "name": "stdout",
     "output_type": "stream",
     "text": [
      "['6', '7']\n"
     ]
    }
   ],
   "source": [
    "descendants = []\n",
    "if r3.get_all_descendants_new(descendants):\n",
    "    descendants_of_r0 = [item.name for item in descendants]\n",
    "    print(descendants_of_r0)\n",
    "else:\n",
    "    print(\"该节点无后代节点\")"
   ]
  },
  {
   "cell_type": "code",
   "execution_count": 68,
   "metadata": {},
   "outputs": [
    {
     "name": "stdout",
     "output_type": "stream",
     "text": [
      "1->0->3->7\n"
     ]
    }
   ],
   "source": [
    "li_of_path = r1.get_path(r7)\n",
    "path_str = ''\n",
    "for i in range(len(li_of_path)-1):\n",
    "    path_str += li_of_path[i].name\n",
    "    path_str += '->'\n",
    "path_str += li_of_path[len(li_of_path)-1].name\n",
    "print(path_str)"
   ]
  },
  {
   "cell_type": "code",
   "execution_count": 69,
   "metadata": {},
   "outputs": [
    {
     "name": "stdout",
     "output_type": "stream",
     "text": [
      "4\n"
     ]
    }
   ],
   "source": [
    "distance_of_A_to_B = r1.get_distance(r7)\n",
    "print(distance_of_A_to_B)"
   ]
  },
  {
   "cell_type": "code",
   "execution_count": 70,
   "metadata": {},
   "outputs": [
    {
     "data": {
      "text/plain": [
       "4"
      ]
     },
     "execution_count": 70,
     "metadata": {},
     "output_type": "execute_result"
    }
   ],
   "source": [
    "r8.get_tier()"
   ]
  }
 ],
 "metadata": {
  "kernelspec": {
   "display_name": "Python 3",
   "language": "python",
   "name": "python3"
  },
  "language_info": {
   "codemirror_mode": {
    "name": "ipython",
    "version": 3
   },
   "file_extension": ".py",
   "mimetype": "text/x-python",
   "name": "python",
   "nbconvert_exporter": "python",
   "pygments_lexer": "ipython3",
   "version": "3.7.4"
  }
 },
 "nbformat": 4,
 "nbformat_minor": 4
}
