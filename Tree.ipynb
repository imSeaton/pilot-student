{
 "cells": [
  {
   "cell_type": "code",
   "execution_count": 34,
   "metadata": {},
   "outputs": [],
   "source": [
    "# 定义树结构\n",
    "class TreeNode:\n",
    "    def __init__(self, name='', value='', parent=None, children=[]):\n",
    "        self.name = name\n",
    "        self.value = value\n",
    "        if parent != None:\n",
    "            assert isinstance(parent, TreeNode)\n",
    "            parent.add_child(self)\n",
    "        self.parent = parent\n",
    "        self.children = []\n",
    "        if len(children) != 0:\n",
    "            for child in children:\n",
    "#                 assert isinstance(child, TreeNode)\n",
    "                self.add_child(child)\n",
    "#                 child.parent = self\n",
    "    \n",
    "    def add_child(self, node):\n",
    "        assert isinstance(node, TreeNode)\n",
    "        node.parent = self\n",
    "        self.children.append(node)\n",
    "    "
   ]
  },
  {
   "cell_type": "code",
   "execution_count": 35,
   "metadata": {},
   "outputs": [
    {
     "name": "stdout",
     "output_type": "stream",
     "text": [
      "2\n",
      "0\n"
     ]
    }
   ],
   "source": [
    "r1 = TreeNode('1', 1)\n",
    "r2 = TreeNode('2', 2)\n",
    "# r3 = TreeNode('3', 3)\n",
    "# r4 = TreeNode('4', 4)\n",
    "# r5 = TreeNode('5', 5)\n",
    "# r6 = TreeNode('6', 6)\n",
    "r0 = TreeNode('root', 0, None, [r1, r2])\n",
    "print(r0.children[1].value)\n",
    "print(r1.parent.value)"
   ]
  },
  {
   "cell_type": "code",
   "execution_count": 54,
   "metadata": {},
   "outputs": [],
   "source": [
    "class TreeNode:\n",
    "    def __init__(self, name='root', data=None, parent=None, children=None):\n",
    "        self.name = name\n",
    "        self.data = data\n",
    "        if parent:\n",
    "            assert isinstance(parent, TreeNode)\n",
    "            parent.add_child(self)\n",
    "        self.parent = None\n",
    "        self.children = []\n",
    "        if children:\n",
    "            for child in children:\n",
    "                self.add_child(child)\n",
    "    \n",
    "    # 判断当前节点是否为树节点，是的话将其作为子节点加入当前节点\n",
    "    def add_child(self, node):\n",
    "        assert isinstance(node, TreeNode)\n",
    "        node.parent = self\n",
    "        self.children.append(node)\n",
    "        \n",
    "    def get_parent(self):\n",
    "        return self.parent\n",
    "    \n",
    "    def get_children(self):\n",
    "        children = ()\n",
    "        for child in self.children:\n",
    "            children.append(child)\n",
    "        return children\n",
    "    \n",
    "    # 返回第一个名称为Name的节点\n",
    "    def get_child_by_name(self, name=''):\n",
    "        for child in self.children:\n",
    "            if child.name == name:\n",
    "                return child\n",
    "        return None\n",
    "    \n",
    "    # 返回当前节点的第n个子节点\n",
    "    def get_child_by_id(self, id=0):\n",
    "        if id < len(self.children):\n",
    "            return self.children[id]\n",
    "        return False\n",
    "    \n",
    "    # 返回当前节点data为N的所有节点，返回结果为一个元组\n",
    "    def get_children_by_value(self, data=0):\n",
    "        nodes = ()\n",
    "        for child in self.children:\n",
    "            if child.data == data:\n",
    "                nodes.append(child)\n",
    "        return nodes\n",
    "    \n",
    "    # 找出一个节点所有的siblings， 如果没有父节点或则\n",
    "    def get_siblings(self):\n",
    "        siblings = ()\n",
    "        if self.parent = None:\n",
    "            print('Root has no siblings')\n",
    "            return False\n",
    "        else:\n",
    "            for child in self.parent.children:\n",
    "                # 排除当前节点\n",
    "                if child.name != self.name\n",
    "                    siblings.append(child)\n",
    "        return siblings"
   ]
  },
  {
   "cell_type": "code",
   "execution_count": 59,
   "metadata": {},
   "outputs": [],
   "source": [
    "r1 = TreeNode('1', 1)\n",
    "r2 = TreeNode('2', 2)\n",
    "r0 = TreeNode('0', 0, parent=None, children=[r1, r2])"
   ]
  },
  {
   "cell_type": "code",
   "execution_count": 58,
   "metadata": {},
   "outputs": [
    {
     "name": "stdout",
     "output_type": "stream",
     "text": [
      "0\n",
      "1\n",
      "2\n"
     ]
    }
   ],
   "source": [
    "print(r1.parent.data)\n",
    "print(r0.children[0].data)\n",
    "print(r0.children[1].data)"
   ]
  },
  {
   "cell_type": "code",
   "execution_count": null,
   "metadata": {},
   "outputs": [],
   "source": []
  }
 ],
 "metadata": {
  "kernelspec": {
   "display_name": "Python 3",
   "language": "python",
   "name": "python3"
  },
  "language_info": {
   "codemirror_mode": {
    "name": "ipython",
    "version": 3
   },
   "file_extension": ".py",
   "mimetype": "text/x-python",
   "name": "python",
   "nbconvert_exporter": "python",
   "pygments_lexer": "ipython3",
   "version": "3.7.4"
  }
 },
 "nbformat": 4,
 "nbformat_minor": 4
}
